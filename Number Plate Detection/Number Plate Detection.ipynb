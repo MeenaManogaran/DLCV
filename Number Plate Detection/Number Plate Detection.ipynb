{
 "cells": [
  {
   "cell_type": "code",
   "execution_count": 1,
   "metadata": {},
   "outputs": [],
   "source": [
    "import numpy as np\n",
    "import cv2"
   ]
  },
  {
   "cell_type": "code",
   "execution_count": 4,
   "metadata": {},
   "outputs": [],
   "source": [
    "# Read the image file\n",
    "image = cv2.imread('5.jpg')\n",
    "cv2.imshow(\"Original\",image)\n",
    "\n",
    "\n",
    "# Resize the image \n",
    "image = cv2.resize(image,(0,0),fx=1.5,fy=1.0)\n",
    "cv2.imshow(\"Resized image\",image)\n",
    "\n",
    "# RGB to Gray scale conversion\n",
    "gray = cv2.cvtColor(image, cv2.COLOR_BGR2GRAY)\n",
    "cv2.imshow(\"1 - Grayscale Conversion\", gray)\n",
    "\n",
    "# Noise removal with iterative bilateral filter(removes noise while preserving edges)\n",
    "gray = cv2.bilateralFilter(gray, 11, 17, 17)\n",
    "cv2.imshow(\"2 - Bilateral Filter\", gray)\n",
    "cv2.waitKey(0)\n",
    "\n",
    "\n",
    "# Find Edges of the grayscale image\n",
    "edged = cv2.Canny(gray, 170, 200)\n",
    "cv2.imshow(\"3 - Canny Edges\", edged)\n",
    "\n",
    "# thresh_adapt=cv2.adaptiveThreshold(edged,255,cv2.ADAPTIVE_THRESH_GAUSSIAN_C,cv2.THRESH_BINARY,255,1)\n",
    "# cv2.imshow(\"Adaptive Threshold\",thresh_adapt)\n",
    "\n",
    "# Find contours based on Edges\n",
    "cnts, new  = cv2.findContours(edged.copy(), cv2.RETR_LIST, cv2.CHAIN_APPROX_SIMPLE)\n",
    "img1 = image.copy()\n",
    "cv2.drawContours(img1, cnts, -1, (0,255,0), 3)\n",
    "cv2.imshow(\"4- All Contours\", img1)\n",
    "\n",
    "#sort contours based on their area keeping minimum required area as '30' (anything smaller than this will not be considered)\n",
    "cnts=sorted(cnts, key = cv2.contourArea, reverse = True)[:30]\n",
    "NumberPlateCnt = None #we currently have no Number plate contour\n",
    "\n",
    "# Top 30 Contours\n",
    "img2 = image.copy()\n",
    "cv2.drawContours(img2, cnts, -1, (0,255,0), 3)\n",
    "cv2.imshow(\"5- Top 30 Contours\", img2)\n",
    "\n",
    "# loop over our contours to find the best possible approximate contour of number plate\n",
    "count = 0\n",
    "idx =5\n",
    "for c in cnts:\n",
    "        peri = cv2.arcLength(c, True)\n",
    "        approx = cv2.approxPolyDP(c, 0.01 * peri, True)\n",
    "        #print (\"approx = \",approx)\n",
    "        if len(approx) == 4:  # Select the contour with 4 corners\n",
    "            NumberPlateCnt = approx #This is our approx Number Plate Contour\n",
    "            #print(NumberPlateCnt)\n",
    "\n",
    "            # Crop those contours and store it in Cropped Images folder\n",
    "            x, y, w, h = cv2.boundingRect(c) #This will find out co-ord for plate\n",
    "            new_img = gray[y:y + h, x:x + w] #Create new image\n",
    "            cv2.imwrite('new.png', new_img) #Store new image\n",
    "            idx+=1\n",
    "\n",
    "            break\n",
    "            \n",
    "\n",
    "# Drawing the selected contour on the original image\n",
    "#print(NumberPlateCnt)\n",
    "cv2.drawContours(image, [NumberPlateCnt], -1, (0,255,0), 3)\n",
    "cv2.imshow(\"Final Image With Number Plate Detected\", image)\n",
    "\n",
    "\n",
    "\n",
    "cv2.waitKey(0)\n",
    "cv2.destroyAllWindows()"
   ]
  },
  {
   "cell_type": "code",
   "execution_count": 3,
   "metadata": {},
   "outputs": [
    {
     "name": "stdout",
     "output_type": "stream",
     "text": [
      "Collecting package metadata (current_repodata.json): ...working... failed\n",
      "Note: you may need to restart the kernel to use updated packages.\n"
     ]
    },
    {
     "name": "stderr",
     "output_type": "stream",
     "text": [
      "\n",
      "ProxyError: Conda cannot proceed due to an error in your proxy configuration.\n",
      "Check for typos and other configuration errors in any '.netrc' file in your home directory,\n",
      "any environment variables ending in '_PROXY', and any other system-wide proxy\n",
      "configuration settings.\n",
      "\n",
      "\n"
     ]
    },
    {
     "name": "stdout",
     "output_type": "stream",
     "text": [
      "\n"
     ]
    }
   ],
   "source": []
  },
  {
   "cell_type": "code",
   "execution_count": null,
   "metadata": {},
   "outputs": [],
   "source": []
  }
 ],
 "metadata": {
  "kernelspec": {
   "display_name": "Python 3",
   "language": "python",
   "name": "python3"
  },
  "language_info": {
   "codemirror_mode": {
    "name": "ipython",
    "version": 3
   },
   "file_extension": ".py",
   "mimetype": "text/x-python",
   "name": "python",
   "nbconvert_exporter": "python",
   "pygments_lexer": "ipython3",
   "version": "3.8.3"
  }
 },
 "nbformat": 4,
 "nbformat_minor": 4
}
